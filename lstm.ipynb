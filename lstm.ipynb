{
  "cells": [
    {
      "cell_type": "code",
      "execution_count": 1,
      "metadata": {},
      "outputs": [],
      "source": [
        "import tensorflow as tf\n",
        "from tensorflow.keras.layers import Input, Dense, Dropout, LSTM\n",
        "from tensorflow.keras.models import Model\n",
        "import pandas as pd\n",
        "import numpy as np\n",
        "from sklearn.model_selection import train_test_split\n",
        "from sklearn.preprocessing import StandardScaler\n",
        "from sklearn.metrics import mean_squared_error, mean_absolute_error, r2_score, mean_absolute_percentage_error, median_absolute_error\n",
        "from tensorflow.keras.callbacks import EarlyStopping, ReduceLROnPlateau, ModelCheckpoint\n",
        "import matplotlib.pyplot as plt\n",
        "import seaborn as sns\n"
      ]
    },
    {
      "cell_type": "code",
      "execution_count": 2,
      "metadata": {},
      "outputs": [],
      "source": [
        "tf.random.set_seed(42)\n",
        "np.random.seed(42)\n",
        "file_path = \"train_FD004_processed.csv\"\n",
        "df = pd.read_csv(file_path)"
      ]
    },
    {
      "cell_type": "code",
      "execution_count": 5,
      "metadata": {},
      "outputs": [],
      "source": [
        "if df.isna().any().any():\n",
        "    df = df.dropna()\n",
        "max_rul = 130\n",
        "df['RUL'] = df['RUL'].clip(upper=max_rul)"
      ]
    },
    {
      "cell_type": "code",
      "execution_count": 6,
      "metadata": {},
      "outputs": [],
      "source": [
        "feature_cols = [col for col in df.columns if col.startswith('op_setting_') or col.startswith('sensor_measurement_')]\n",
        "target_col = 'RUL'"
      ]
    },
    {
      "cell_type": "code",
      "execution_count": 7,
      "metadata": {},
      "outputs": [],
      "source": [
        "window_size = 5\n",
        "for col in feature_cols:\n",
        "    df[f'{col}_rolling_mean'] = df.groupby('unit_number')[col].rolling(window=window_size, min_periods=1).mean().reset_index(level=0, drop=True)\n",
        "    df[f'{col}_rolling_std'] = df.groupby('unit_number')[col].rolling(window=window_size, min_periods=1).std().reset_index(level=0, drop=True)\n",
        "feature_cols += [col for col in df.columns if '_rolling_mean' in col or '_rolling_std' in col]"
      ]
    },
    {
      "cell_type": "code",
      "execution_count": 8,
      "metadata": {},
      "outputs": [],
      "source": [
        "variances = df[feature_cols].var()\n",
        "selected_features = variances[variances > 0.05].index.tolist()  # Stricter threshold (0.05 vs. 0.01)\n",
        "df = df[['unit_number'] + selected_features + [target_col]]\n"
      ]
    },
    {
      "cell_type": "code",
      "execution_count": 9,
      "metadata": {},
      "outputs": [],
      "source": [
        "scaler_features = StandardScaler()\n",
        "scaler_target = StandardScaler()\n",
        "df[selected_features] = scaler_features.fit_transform(df[selected_features])\n",
        "df[target_col] = scaler_target.fit_transform(df[[target_col]])\n"
      ]
    },
    {
      "cell_type": "code",
      "execution_count": 10,
      "metadata": {},
      "outputs": [],
      "source": [
        "WINDOW_SIZE = 30\n",
        "def create_sequences(data, window_size, feature_cols, target_col):\n",
        "    X, y = [], []\n",
        "    for unit in data['unit_number'].unique():\n",
        "        unit_data = data[data['unit_number'] == unit]\n",
        "        feature_data = unit_data[feature_cols].values\n",
        "        target_data = unit_data[target_col].values\n",
        "        for i in range(len(unit_data) - window_size):\n",
        "            X.append(feature_data[i:i+window_size])\n",
        "            y.append(target_data[i+window_size])\n",
        "    return np.array(X), np.array(y)"
      ]
    },
    {
      "cell_type": "code",
      "execution_count": 11,
      "metadata": {},
      "outputs": [],
      "source": [
        "X, y = create_sequences(df, WINDOW_SIZE, selected_features, target_col)\n",
        "mask = ~np.isnan(X).any(axis=(1, 2)) & ~np.isnan(y)\n",
        "X, y = X[mask], y[mask]"
      ]
    },
    {
      "cell_type": "code",
      "execution_count": 12,
      "metadata": {},
      "outputs": [],
      "source": [
        "X_train, X_val, y_train, y_val = train_test_split(X, y, test_size=0.2, random_state=42)"
      ]
    },
    {
      "cell_type": "code",
      "execution_count": 13,
      "metadata": {},
      "outputs": [],
      "source": [
        "input_shape = X.shape[1:]  \n",
        "inputs = Input(shape=input_shape)\n",
        "x = LSTM(64, return_sequences=True)(inputs) \n",
        "x = Dropout(0.3)(x)\n",
        "x = LSTM(32)(x)  \n",
        "x = Dropout(0.3)(x)\n",
        "x = Dense(32, activation='relu')(x) \n",
        "x = Dropout(0.3)(x)\n",
        "outputs = Dense(1)(x)"
      ]
    },
    {
      "cell_type": "code",
      "execution_count": 14,
      "metadata": {},
      "outputs": [
        {
          "data": {
            "text/html": [
              "<pre style=\"white-space:pre;overflow-x:auto;line-height:normal;font-family:Menlo,'DejaVu Sans Mono',consolas,'Courier New',monospace\"><span style=\"font-weight: bold\">Model: \"functional\"</span>\n",
              "</pre>\n"
            ],
            "text/plain": [
              "\u001b[1mModel: \"functional\"\u001b[0m\n"
            ]
          },
          "metadata": {},
          "output_type": "display_data"
        },
        {
          "data": {
            "text/html": [
              "<pre style=\"white-space:pre;overflow-x:auto;line-height:normal;font-family:Menlo,'DejaVu Sans Mono',consolas,'Courier New',monospace\">┏━━━━━━━━━━━━━━━━━━━━━━━━━━━━━━━━━┳━━━━━━━━━━━━━━━━━━━━━━━━┳━━━━━━━━━━━━━━━┓\n",
              "┃<span style=\"font-weight: bold\"> Layer (type)                    </span>┃<span style=\"font-weight: bold\"> Output Shape           </span>┃<span style=\"font-weight: bold\">       Param # </span>┃\n",
              "┡━━━━━━━━━━━━━━━━━━━━━━━━━━━━━━━━━╇━━━━━━━━━━━━━━━━━━━━━━━━╇━━━━━━━━━━━━━━━┩\n",
              "│ input_layer (<span style=\"color: #0087ff; text-decoration-color: #0087ff\">InputLayer</span>)        │ (<span style=\"color: #00d7ff; text-decoration-color: #00d7ff\">None</span>, <span style=\"color: #00af00; text-decoration-color: #00af00\">30</span>, <span style=\"color: #00af00; text-decoration-color: #00af00\">26</span>)         │             <span style=\"color: #00af00; text-decoration-color: #00af00\">0</span> │\n",
              "├─────────────────────────────────┼────────────────────────┼───────────────┤\n",
              "│ lstm (<span style=\"color: #0087ff; text-decoration-color: #0087ff\">LSTM</span>)                     │ (<span style=\"color: #00d7ff; text-decoration-color: #00d7ff\">None</span>, <span style=\"color: #00af00; text-decoration-color: #00af00\">30</span>, <span style=\"color: #00af00; text-decoration-color: #00af00\">64</span>)         │        <span style=\"color: #00af00; text-decoration-color: #00af00\">23,296</span> │\n",
              "├─────────────────────────────────┼────────────────────────┼───────────────┤\n",
              "│ dropout (<span style=\"color: #0087ff; text-decoration-color: #0087ff\">Dropout</span>)               │ (<span style=\"color: #00d7ff; text-decoration-color: #00d7ff\">None</span>, <span style=\"color: #00af00; text-decoration-color: #00af00\">30</span>, <span style=\"color: #00af00; text-decoration-color: #00af00\">64</span>)         │             <span style=\"color: #00af00; text-decoration-color: #00af00\">0</span> │\n",
              "├─────────────────────────────────┼────────────────────────┼───────────────┤\n",
              "│ lstm_1 (<span style=\"color: #0087ff; text-decoration-color: #0087ff\">LSTM</span>)                   │ (<span style=\"color: #00d7ff; text-decoration-color: #00d7ff\">None</span>, <span style=\"color: #00af00; text-decoration-color: #00af00\">32</span>)             │        <span style=\"color: #00af00; text-decoration-color: #00af00\">12,416</span> │\n",
              "├─────────────────────────────────┼────────────────────────┼───────────────┤\n",
              "│ dropout_1 (<span style=\"color: #0087ff; text-decoration-color: #0087ff\">Dropout</span>)             │ (<span style=\"color: #00d7ff; text-decoration-color: #00d7ff\">None</span>, <span style=\"color: #00af00; text-decoration-color: #00af00\">32</span>)             │             <span style=\"color: #00af00; text-decoration-color: #00af00\">0</span> │\n",
              "├─────────────────────────────────┼────────────────────────┼───────────────┤\n",
              "│ dense (<span style=\"color: #0087ff; text-decoration-color: #0087ff\">Dense</span>)                   │ (<span style=\"color: #00d7ff; text-decoration-color: #00d7ff\">None</span>, <span style=\"color: #00af00; text-decoration-color: #00af00\">32</span>)             │         <span style=\"color: #00af00; text-decoration-color: #00af00\">1,056</span> │\n",
              "├─────────────────────────────────┼────────────────────────┼───────────────┤\n",
              "│ dropout_2 (<span style=\"color: #0087ff; text-decoration-color: #0087ff\">Dropout</span>)             │ (<span style=\"color: #00d7ff; text-decoration-color: #00d7ff\">None</span>, <span style=\"color: #00af00; text-decoration-color: #00af00\">32</span>)             │             <span style=\"color: #00af00; text-decoration-color: #00af00\">0</span> │\n",
              "├─────────────────────────────────┼────────────────────────┼───────────────┤\n",
              "│ dense_1 (<span style=\"color: #0087ff; text-decoration-color: #0087ff\">Dense</span>)                 │ (<span style=\"color: #00d7ff; text-decoration-color: #00d7ff\">None</span>, <span style=\"color: #00af00; text-decoration-color: #00af00\">1</span>)              │            <span style=\"color: #00af00; text-decoration-color: #00af00\">33</span> │\n",
              "└─────────────────────────────────┴────────────────────────┴───────────────┘\n",
              "</pre>\n"
            ],
            "text/plain": [
              "┏━━━━━━━━━━━━━━━━━━━━━━━━━━━━━━━━━┳━━━━━━━━━━━━━━━━━━━━━━━━┳━━━━━━━━━━━━━━━┓\n",
              "┃\u001b[1m \u001b[0m\u001b[1mLayer (type)                   \u001b[0m\u001b[1m \u001b[0m┃\u001b[1m \u001b[0m\u001b[1mOutput Shape          \u001b[0m\u001b[1m \u001b[0m┃\u001b[1m \u001b[0m\u001b[1m      Param #\u001b[0m\u001b[1m \u001b[0m┃\n",
              "┡━━━━━━━━━━━━━━━━━━━━━━━━━━━━━━━━━╇━━━━━━━━━━━━━━━━━━━━━━━━╇━━━━━━━━━━━━━━━┩\n",
              "│ input_layer (\u001b[38;5;33mInputLayer\u001b[0m)        │ (\u001b[38;5;45mNone\u001b[0m, \u001b[38;5;34m30\u001b[0m, \u001b[38;5;34m26\u001b[0m)         │             \u001b[38;5;34m0\u001b[0m │\n",
              "├─────────────────────────────────┼────────────────────────┼───────────────┤\n",
              "│ lstm (\u001b[38;5;33mLSTM\u001b[0m)                     │ (\u001b[38;5;45mNone\u001b[0m, \u001b[38;5;34m30\u001b[0m, \u001b[38;5;34m64\u001b[0m)         │        \u001b[38;5;34m23,296\u001b[0m │\n",
              "├─────────────────────────────────┼────────────────────────┼───────────────┤\n",
              "│ dropout (\u001b[38;5;33mDropout\u001b[0m)               │ (\u001b[38;5;45mNone\u001b[0m, \u001b[38;5;34m30\u001b[0m, \u001b[38;5;34m64\u001b[0m)         │             \u001b[38;5;34m0\u001b[0m │\n",
              "├─────────────────────────────────┼────────────────────────┼───────────────┤\n",
              "│ lstm_1 (\u001b[38;5;33mLSTM\u001b[0m)                   │ (\u001b[38;5;45mNone\u001b[0m, \u001b[38;5;34m32\u001b[0m)             │        \u001b[38;5;34m12,416\u001b[0m │\n",
              "├─────────────────────────────────┼────────────────────────┼───────────────┤\n",
              "│ dropout_1 (\u001b[38;5;33mDropout\u001b[0m)             │ (\u001b[38;5;45mNone\u001b[0m, \u001b[38;5;34m32\u001b[0m)             │             \u001b[38;5;34m0\u001b[0m │\n",
              "├─────────────────────────────────┼────────────────────────┼───────────────┤\n",
              "│ dense (\u001b[38;5;33mDense\u001b[0m)                   │ (\u001b[38;5;45mNone\u001b[0m, \u001b[38;5;34m32\u001b[0m)             │         \u001b[38;5;34m1,056\u001b[0m │\n",
              "├─────────────────────────────────┼────────────────────────┼───────────────┤\n",
              "│ dropout_2 (\u001b[38;5;33mDropout\u001b[0m)             │ (\u001b[38;5;45mNone\u001b[0m, \u001b[38;5;34m32\u001b[0m)             │             \u001b[38;5;34m0\u001b[0m │\n",
              "├─────────────────────────────────┼────────────────────────┼───────────────┤\n",
              "│ dense_1 (\u001b[38;5;33mDense\u001b[0m)                 │ (\u001b[38;5;45mNone\u001b[0m, \u001b[38;5;34m1\u001b[0m)              │            \u001b[38;5;34m33\u001b[0m │\n",
              "└─────────────────────────────────┴────────────────────────┴───────────────┘\n"
            ]
          },
          "metadata": {},
          "output_type": "display_data"
        },
        {
          "data": {
            "text/html": [
              "<pre style=\"white-space:pre;overflow-x:auto;line-height:normal;font-family:Menlo,'DejaVu Sans Mono',consolas,'Courier New',monospace\"><span style=\"font-weight: bold\"> Total params: </span><span style=\"color: #00af00; text-decoration-color: #00af00\">36,801</span> (143.75 KB)\n",
              "</pre>\n"
            ],
            "text/plain": [
              "\u001b[1m Total params: \u001b[0m\u001b[38;5;34m36,801\u001b[0m (143.75 KB)\n"
            ]
          },
          "metadata": {},
          "output_type": "display_data"
        },
        {
          "data": {
            "text/html": [
              "<pre style=\"white-space:pre;overflow-x:auto;line-height:normal;font-family:Menlo,'DejaVu Sans Mono',consolas,'Courier New',monospace\"><span style=\"font-weight: bold\"> Trainable params: </span><span style=\"color: #00af00; text-decoration-color: #00af00\">36,801</span> (143.75 KB)\n",
              "</pre>\n"
            ],
            "text/plain": [
              "\u001b[1m Trainable params: \u001b[0m\u001b[38;5;34m36,801\u001b[0m (143.75 KB)\n"
            ]
          },
          "metadata": {},
          "output_type": "display_data"
        },
        {
          "data": {
            "text/html": [
              "<pre style=\"white-space:pre;overflow-x:auto;line-height:normal;font-family:Menlo,'DejaVu Sans Mono',consolas,'Courier New',monospace\"><span style=\"font-weight: bold\"> Non-trainable params: </span><span style=\"color: #00af00; text-decoration-color: #00af00\">0</span> (0.00 B)\n",
              "</pre>\n"
            ],
            "text/plain": [
              "\u001b[1m Non-trainable params: \u001b[0m\u001b[38;5;34m0\u001b[0m (0.00 B)\n"
            ]
          },
          "metadata": {},
          "output_type": "display_data"
        }
      ],
      "source": [
        "model = Model(inputs, outputs)\n",
        "optimizer = tf.keras.optimizers.Adam(learning_rate=0.001, clipnorm=1.0)\n",
        "model.compile(optimizer=optimizer, loss='mse', metrics=['mae'])\n",
        "model.summary()"
      ]
    },
    {
      "cell_type": "code",
      "execution_count": 15,
      "metadata": {},
      "outputs": [],
      "source": [
        "early_stopping = EarlyStopping(monitor='val_loss', patience=10, restore_best_weights=True)  # Reduced patience\n",
        "lr_scheduler = ReduceLROnPlateau(monitor='val_loss', factor=0.5, patience=5, min_lr=1e-6)\n",
        "checkpoint = ModelCheckpoint('best_lightweight_lstm_rul_model.keras', monitor='val_loss', save_best_only=True)\n"
      ]
    },
    {
      "cell_type": "code",
      "execution_count": 16,
      "metadata": {},
      "outputs": [
        {
          "name": "stdout",
          "output_type": "stream",
          "text": [
            "Epoch 1/50\n",
            "\u001b[1m670/670\u001b[0m \u001b[32m━━━━━━━━━━━━━━━━━━━━\u001b[0m\u001b[37m\u001b[0m \u001b[1m20s\u001b[0m 24ms/step - loss: 0.5311 - mae: 0.5901 - val_loss: 0.2674 - val_mae: 0.3990 - learning_rate: 0.0010\n",
            "Epoch 2/50\n",
            "\u001b[1m670/670\u001b[0m \u001b[32m━━━━━━━━━━━━━━━━━━━━\u001b[0m\u001b[37m\u001b[0m \u001b[1m15s\u001b[0m 23ms/step - loss: 0.3105 - mae: 0.4385 - val_loss: 0.2838 - val_mae: 0.4050 - learning_rate: 0.0010\n",
            "Epoch 3/50\n",
            "\u001b[1m670/670\u001b[0m \u001b[32m━━━━━━━━━━━━━━━━━━━━\u001b[0m\u001b[37m\u001b[0m \u001b[1m15s\u001b[0m 23ms/step - loss: 0.2809 - mae: 0.4130 - val_loss: 0.2408 - val_mae: 0.3636 - learning_rate: 0.0010\n",
            "Epoch 4/50\n",
            "\u001b[1m670/670\u001b[0m \u001b[32m━━━━━━━━━━━━━━━━━━━━\u001b[0m\u001b[37m\u001b[0m \u001b[1m17s\u001b[0m 25ms/step - loss: 0.2647 - mae: 0.3988 - val_loss: 0.2188 - val_mae: 0.3469 - learning_rate: 0.0010\n",
            "Epoch 5/50\n",
            "\u001b[1m670/670\u001b[0m \u001b[32m━━━━━━━━━━━━━━━━━━━━\u001b[0m\u001b[37m\u001b[0m \u001b[1m16s\u001b[0m 24ms/step - loss: 0.2547 - mae: 0.3903 - val_loss: 0.2282 - val_mae: 0.3475 - learning_rate: 0.0010\n",
            "Epoch 6/50\n",
            "\u001b[1m670/670\u001b[0m \u001b[32m━━━━━━━━━━━━━━━━━━━━\u001b[0m\u001b[37m\u001b[0m \u001b[1m17s\u001b[0m 25ms/step - loss: 0.2455 - mae: 0.3812 - val_loss: 0.2306 - val_mae: 0.3504 - learning_rate: 0.0010\n",
            "Epoch 7/50\n",
            "\u001b[1m670/670\u001b[0m \u001b[32m━━━━━━━━━━━━━━━━━━━━\u001b[0m\u001b[37m\u001b[0m \u001b[1m17s\u001b[0m 25ms/step - loss: 0.2350 - mae: 0.3720 - val_loss: 0.2311 - val_mae: 0.3588 - learning_rate: 0.0010\n",
            "Epoch 8/50\n",
            "\u001b[1m670/670\u001b[0m \u001b[32m━━━━━━━━━━━━━━━━━━━━\u001b[0m\u001b[37m\u001b[0m \u001b[1m16s\u001b[0m 24ms/step - loss: 0.2283 - mae: 0.3664 - val_loss: 0.1857 - val_mae: 0.3155 - learning_rate: 0.0010\n",
            "Epoch 9/50\n",
            "\u001b[1m670/670\u001b[0m \u001b[32m━━━━━━━━━━━━━━━━━━━━\u001b[0m\u001b[37m\u001b[0m \u001b[1m17s\u001b[0m 25ms/step - loss: 0.2164 - mae: 0.3570 - val_loss: 0.1943 - val_mae: 0.3203 - learning_rate: 0.0010\n",
            "Epoch 10/50\n",
            "\u001b[1m670/670\u001b[0m \u001b[32m━━━━━━━━━━━━━━━━━━━━\u001b[0m\u001b[37m\u001b[0m \u001b[1m18s\u001b[0m 28ms/step - loss: 0.2033 - mae: 0.3449 - val_loss: 0.1692 - val_mae: 0.3027 - learning_rate: 0.0010\n",
            "Epoch 11/50\n",
            "\u001b[1m670/670\u001b[0m \u001b[32m━━━━━━━━━━━━━━━━━━━━\u001b[0m\u001b[37m\u001b[0m \u001b[1m21s\u001b[0m 32ms/step - loss: 0.1905 - mae: 0.3328 - val_loss: 0.1622 - val_mae: 0.2867 - learning_rate: 0.0010\n",
            "Epoch 12/50\n",
            "\u001b[1m670/670\u001b[0m \u001b[32m━━━━━━━━━━━━━━━━━━━━\u001b[0m\u001b[37m\u001b[0m \u001b[1m20s\u001b[0m 30ms/step - loss: 0.1774 - mae: 0.3196 - val_loss: 0.1647 - val_mae: 0.3003 - learning_rate: 0.0010\n",
            "Epoch 13/50\n",
            "\u001b[1m670/670\u001b[0m \u001b[32m━━━━━━━━━━━━━━━━━━━━\u001b[0m\u001b[37m\u001b[0m \u001b[1m16s\u001b[0m 24ms/step - loss: 0.1648 - mae: 0.3086 - val_loss: 0.1343 - val_mae: 0.2668 - learning_rate: 0.0010\n",
            "Epoch 14/50\n",
            "\u001b[1m670/670\u001b[0m \u001b[32m━━━━━━━━━━━━━━━━━━━━\u001b[0m\u001b[37m\u001b[0m \u001b[1m18s\u001b[0m 26ms/step - loss: 0.1468 - mae: 0.2909 - val_loss: 0.1151 - val_mae: 0.2490 - learning_rate: 0.0010\n",
            "Epoch 15/50\n",
            "\u001b[1m670/670\u001b[0m \u001b[32m━━━━━━━━━━━━━━━━━━━━\u001b[0m\u001b[37m\u001b[0m \u001b[1m18s\u001b[0m 27ms/step - loss: 0.1363 - mae: 0.2804 - val_loss: 0.1048 - val_mae: 0.2359 - learning_rate: 0.0010\n",
            "Epoch 16/50\n",
            "\u001b[1m670/670\u001b[0m \u001b[32m━━━━━━━━━━━━━━━━━━━━\u001b[0m\u001b[37m\u001b[0m \u001b[1m17s\u001b[0m 26ms/step - loss: 0.1227 - mae: 0.2656 - val_loss: 0.0977 - val_mae: 0.2224 - learning_rate: 0.0010\n",
            "Epoch 17/50\n",
            "\u001b[1m670/670\u001b[0m \u001b[32m━━━━━━━━━━━━━━━━━━━━\u001b[0m\u001b[37m\u001b[0m \u001b[1m18s\u001b[0m 27ms/step - loss: 0.1166 - mae: 0.2585 - val_loss: 0.0806 - val_mae: 0.2042 - learning_rate: 0.0010\n",
            "Epoch 18/50\n",
            "\u001b[1m670/670\u001b[0m \u001b[32m━━━━━━━━━━━━━━━━━━━━\u001b[0m\u001b[37m\u001b[0m \u001b[1m18s\u001b[0m 26ms/step - loss: 0.1050 - mae: 0.2462 - val_loss: 0.0720 - val_mae: 0.2021 - learning_rate: 0.0010\n",
            "Epoch 19/50\n",
            "\u001b[1m670/670\u001b[0m \u001b[32m━━━━━━━━━━━━━━━━━━━━\u001b[0m\u001b[37m\u001b[0m \u001b[1m17s\u001b[0m 26ms/step - loss: 0.0964 - mae: 0.2356 - val_loss: 0.0661 - val_mae: 0.1796 - learning_rate: 0.0010\n",
            "Epoch 20/50\n",
            "\u001b[1m670/670\u001b[0m \u001b[32m━━━━━━━━━━━━━━━━━━━━\u001b[0m\u001b[37m\u001b[0m \u001b[1m17s\u001b[0m 26ms/step - loss: 0.0913 - mae: 0.2307 - val_loss: 0.0655 - val_mae: 0.1758 - learning_rate: 0.0010\n",
            "Epoch 21/50\n",
            "\u001b[1m670/670\u001b[0m \u001b[32m━━━━━━━━━━━━━━━━━━━━\u001b[0m\u001b[37m\u001b[0m \u001b[1m17s\u001b[0m 26ms/step - loss: 0.0849 - mae: 0.2221 - val_loss: 0.0583 - val_mae: 0.1770 - learning_rate: 0.0010\n",
            "Epoch 22/50\n",
            "\u001b[1m670/670\u001b[0m \u001b[32m━━━━━━━━━━━━━━━━━━━━\u001b[0m\u001b[37m\u001b[0m \u001b[1m17s\u001b[0m 25ms/step - loss: 0.0817 - mae: 0.2179 - val_loss: 0.0496 - val_mae: 0.1595 - learning_rate: 0.0010\n",
            "Epoch 23/50\n",
            "\u001b[1m670/670\u001b[0m \u001b[32m━━━━━━━━━━━━━━━━━━━━\u001b[0m\u001b[37m\u001b[0m \u001b[1m17s\u001b[0m 26ms/step - loss: 0.0772 - mae: 0.2114 - val_loss: 0.0501 - val_mae: 0.1585 - learning_rate: 0.0010\n",
            "Epoch 24/50\n",
            "\u001b[1m670/670\u001b[0m \u001b[32m━━━━━━━━━━━━━━━━━━━━\u001b[0m\u001b[37m\u001b[0m \u001b[1m17s\u001b[0m 26ms/step - loss: 0.0740 - mae: 0.2076 - val_loss: 0.0453 - val_mae: 0.1551 - learning_rate: 0.0010\n",
            "Epoch 25/50\n",
            "\u001b[1m670/670\u001b[0m \u001b[32m━━━━━━━━━━━━━━━━━━━━\u001b[0m\u001b[37m\u001b[0m \u001b[1m17s\u001b[0m 26ms/step - loss: 0.0717 - mae: 0.2041 - val_loss: 0.0436 - val_mae: 0.1507 - learning_rate: 0.0010\n",
            "Epoch 26/50\n",
            "\u001b[1m670/670\u001b[0m \u001b[32m━━━━━━━━━━━━━━━━━━━━\u001b[0m\u001b[37m\u001b[0m \u001b[1m17s\u001b[0m 26ms/step - loss: 0.0673 - mae: 0.1981 - val_loss: 0.0491 - val_mae: 0.1523 - learning_rate: 0.0010\n",
            "Epoch 27/50\n",
            "\u001b[1m670/670\u001b[0m \u001b[32m━━━━━━━━━━━━━━━━━━━━\u001b[0m\u001b[37m\u001b[0m \u001b[1m17s\u001b[0m 26ms/step - loss: 0.0662 - mae: 0.1967 - val_loss: 0.0368 - val_mae: 0.1416 - learning_rate: 0.0010\n",
            "Epoch 28/50\n",
            "\u001b[1m670/670\u001b[0m \u001b[32m━━━━━━━━━━━━━━━━━━━━\u001b[0m\u001b[37m\u001b[0m \u001b[1m17s\u001b[0m 25ms/step - loss: 0.0638 - mae: 0.1929 - val_loss: 0.0441 - val_mae: 0.1445 - learning_rate: 0.0010\n",
            "Epoch 29/50\n",
            "\u001b[1m670/670\u001b[0m \u001b[32m━━━━━━━━━━━━━━━━━━━━\u001b[0m\u001b[37m\u001b[0m \u001b[1m20s\u001b[0m 30ms/step - loss: 0.0630 - mae: 0.1917 - val_loss: 0.0363 - val_mae: 0.1338 - learning_rate: 0.0010\n",
            "Epoch 30/50\n",
            "\u001b[1m670/670\u001b[0m \u001b[32m━━━━━━━━━━━━━━━━━━━━\u001b[0m\u001b[37m\u001b[0m \u001b[1m17s\u001b[0m 26ms/step - loss: 0.0600 - mae: 0.1872 - val_loss: 0.0363 - val_mae: 0.1334 - learning_rate: 0.0010\n",
            "Epoch 31/50\n",
            "\u001b[1m670/670\u001b[0m \u001b[32m━━━━━━━━━━━━━━━━━━━━\u001b[0m\u001b[37m\u001b[0m \u001b[1m18s\u001b[0m 26ms/step - loss: 0.0586 - mae: 0.1846 - val_loss: 0.0335 - val_mae: 0.1398 - learning_rate: 0.0010\n",
            "Epoch 32/50\n",
            "\u001b[1m670/670\u001b[0m \u001b[32m━━━━━━━━━━━━━━━━━━━━\u001b[0m\u001b[37m\u001b[0m \u001b[1m19s\u001b[0m 28ms/step - loss: 0.0571 - mae: 0.1835 - val_loss: 0.0282 - val_mae: 0.1108 - learning_rate: 0.0010\n",
            "Epoch 33/50\n",
            "\u001b[1m670/670\u001b[0m \u001b[32m━━━━━━━━━━━━━━━━━━━━\u001b[0m\u001b[37m\u001b[0m \u001b[1m17s\u001b[0m 26ms/step - loss: 0.0560 - mae: 0.1810 - val_loss: 0.0259 - val_mae: 0.1086 - learning_rate: 0.0010\n",
            "Epoch 34/50\n",
            "\u001b[1m670/670\u001b[0m \u001b[32m━━━━━━━━━━━━━━━━━━━━\u001b[0m\u001b[37m\u001b[0m \u001b[1m17s\u001b[0m 26ms/step - loss: 0.0556 - mae: 0.1795 - val_loss: 0.0270 - val_mae: 0.1088 - learning_rate: 0.0010\n",
            "Epoch 35/50\n",
            "\u001b[1m670/670\u001b[0m \u001b[32m━━━━━━━━━━━━━━━━━━━━\u001b[0m\u001b[37m\u001b[0m \u001b[1m17s\u001b[0m 26ms/step - loss: 0.0537 - mae: 0.1769 - val_loss: 0.0242 - val_mae: 0.1058 - learning_rate: 0.0010\n",
            "Epoch 36/50\n",
            "\u001b[1m670/670\u001b[0m \u001b[32m━━━━━━━━━━━━━━━━━━━━\u001b[0m\u001b[37m\u001b[0m \u001b[1m17s\u001b[0m 26ms/step - loss: 0.0541 - mae: 0.1781 - val_loss: 0.0260 - val_mae: 0.1130 - learning_rate: 0.0010\n",
            "Epoch 37/50\n",
            "\u001b[1m670/670\u001b[0m \u001b[32m━━━━━━━━━━━━━━━━━━━━\u001b[0m\u001b[37m\u001b[0m \u001b[1m17s\u001b[0m 26ms/step - loss: 0.0535 - mae: 0.1774 - val_loss: 0.0255 - val_mae: 0.1082 - learning_rate: 0.0010\n",
            "Epoch 38/50\n",
            "\u001b[1m670/670\u001b[0m \u001b[32m━━━━━━━━━━━━━━━━━━━━\u001b[0m\u001b[37m\u001b[0m \u001b[1m18s\u001b[0m 26ms/step - loss: 0.0514 - mae: 0.1733 - val_loss: 0.0228 - val_mae: 0.1126 - learning_rate: 0.0010\n",
            "Epoch 39/50\n",
            "\u001b[1m670/670\u001b[0m \u001b[32m━━━━━━━━━━━━━━━━━━━━\u001b[0m\u001b[37m\u001b[0m \u001b[1m18s\u001b[0m 26ms/step - loss: 0.0512 - mae: 0.1722 - val_loss: 0.0214 - val_mae: 0.1056 - learning_rate: 0.0010\n",
            "Epoch 40/50\n",
            "\u001b[1m670/670\u001b[0m \u001b[32m━━━━━━━━━━━━━━━━━━━━\u001b[0m\u001b[37m\u001b[0m \u001b[1m17s\u001b[0m 26ms/step - loss: 0.0509 - mae: 0.1721 - val_loss: 0.0228 - val_mae: 0.1124 - learning_rate: 0.0010\n",
            "Epoch 41/50\n",
            "\u001b[1m670/670\u001b[0m \u001b[32m━━━━━━━━━━━━━━━━━━━━\u001b[0m\u001b[37m\u001b[0m \u001b[1m17s\u001b[0m 26ms/step - loss: 0.0496 - mae: 0.1710 - val_loss: 0.0218 - val_mae: 0.1020 - learning_rate: 0.0010\n",
            "Epoch 42/50\n",
            "\u001b[1m670/670\u001b[0m \u001b[32m━━━━━━━━━━━━━━━━━━━━\u001b[0m\u001b[37m\u001b[0m \u001b[1m17s\u001b[0m 26ms/step - loss: 0.0499 - mae: 0.1701 - val_loss: 0.0220 - val_mae: 0.1068 - learning_rate: 0.0010\n",
            "Epoch 43/50\n",
            "\u001b[1m670/670\u001b[0m \u001b[32m━━━━━━━━━━━━━━━━━━━━\u001b[0m\u001b[37m\u001b[0m \u001b[1m17s\u001b[0m 26ms/step - loss: 0.0490 - mae: 0.1694 - val_loss: 0.0205 - val_mae: 0.0905 - learning_rate: 0.0010\n",
            "Epoch 44/50\n",
            "\u001b[1m670/670\u001b[0m \u001b[32m━━━━━━━━━━━━━━━━━━━━\u001b[0m\u001b[37m\u001b[0m \u001b[1m17s\u001b[0m 26ms/step - loss: 0.0488 - mae: 0.1688 - val_loss: 0.0172 - val_mae: 0.0948 - learning_rate: 0.0010\n",
            "Epoch 45/50\n",
            "\u001b[1m670/670\u001b[0m \u001b[32m━━━━━━━━━━━━━━━━━━━━\u001b[0m\u001b[37m\u001b[0m \u001b[1m17s\u001b[0m 26ms/step - loss: 0.0472 - mae: 0.1659 - val_loss: 0.0190 - val_mae: 0.0948 - learning_rate: 0.0010\n",
            "Epoch 46/50\n",
            "\u001b[1m670/670\u001b[0m \u001b[32m━━━━━━━━━━━━━━━━━━━━\u001b[0m\u001b[37m\u001b[0m \u001b[1m18s\u001b[0m 27ms/step - loss: 0.0480 - mae: 0.1677 - val_loss: 0.0215 - val_mae: 0.0981 - learning_rate: 0.0010\n",
            "Epoch 47/50\n",
            "\u001b[1m670/670\u001b[0m \u001b[32m━━━━━━━━━━━━━━━━━━━━\u001b[0m\u001b[37m\u001b[0m \u001b[1m18s\u001b[0m 26ms/step - loss: 0.0481 - mae: 0.1668 - val_loss: 0.0175 - val_mae: 0.0915 - learning_rate: 0.0010\n",
            "Epoch 48/50\n",
            "\u001b[1m670/670\u001b[0m \u001b[32m━━━━━━━━━━━━━━━━━━━━\u001b[0m\u001b[37m\u001b[0m \u001b[1m18s\u001b[0m 26ms/step - loss: 0.0469 - mae: 0.1644 - val_loss: 0.0177 - val_mae: 0.0922 - learning_rate: 0.0010\n",
            "Epoch 49/50\n",
            "\u001b[1m670/670\u001b[0m \u001b[32m━━━━━━━━━━━━━━━━━━━━\u001b[0m\u001b[37m\u001b[0m \u001b[1m18s\u001b[0m 26ms/step - loss: 0.0468 - mae: 0.1650 - val_loss: 0.0190 - val_mae: 0.0938 - learning_rate: 0.0010\n",
            "Epoch 50/50\n",
            "\u001b[1m670/670\u001b[0m \u001b[32m━━━━━━━━━━━━━━━━━━━━\u001b[0m\u001b[37m\u001b[0m \u001b[1m17s\u001b[0m 26ms/step - loss: 0.0432 - mae: 0.1579 - val_loss: 0.0164 - val_mae: 0.0891 - learning_rate: 5.0000e-04\n"
          ]
        }
      ],
      "source": [
        "history = model.fit(\n",
        "    X_train, y_train,\n",
        "    validation_data=(X_val, y_val),\n",
        "    epochs=50,  # Reduced from 100\n",
        "    batch_size=64,  # Increased from 32 for faster training\n",
        "    callbacks=[early_stopping, lr_scheduler, checkpoint],\n",
        "    verbose=1\n",
        ")"
      ]
    },
    {
      "cell_type": "code",
      "execution_count": 17,
      "metadata": {},
      "outputs": [
        {
          "name": "stdout",
          "output_type": "stream",
          "text": [
            "\u001b[1m335/335\u001b[0m \u001b[32m━━━━━━━━━━━━━━━━━━━━\u001b[0m\u001b[37m\u001b[0m \u001b[1m2s\u001b[0m 6ms/step\n"
          ]
        }
      ],
      "source": [
        "y_pred = model.predict(X_val)\n",
        "y_val_inv = scaler_target.inverse_transform(y_val.reshape(-1, 1)).flatten()\n",
        "y_pred_inv = scaler_target.inverse_transform(y_pred).flatten()\n",
        "mask = ~np.isnan(y_val_inv) & ~np.isnan(y_pred_inv)\n",
        "y_val_inv, y_pred_inv = y_val_inv[mask], y_pred_inv[mask]"
      ]
    },
    {
      "cell_type": "code",
      "execution_count": 18,
      "metadata": {},
      "outputs": [],
      "source": [
        "mse = mean_squared_error(y_val_inv, y_pred_inv)\n",
        "mae = mean_absolute_error(y_val_inv, y_pred_inv)\n",
        "rmse = np.sqrt(mse)\n",
        "r2 = r2_score(y_val_inv, y_pred_inv)\n",
        "mape = mean_absolute_percentage_error(y_val_inv, y_pred_inv)\n",
        "medae = median_absolute_error(y_val_inv, y_pred_inv)"
      ]
    },
    {
      "cell_type": "code",
      "execution_count": 19,
      "metadata": {},
      "outputs": [
        {
          "name": "stdout",
          "output_type": "stream",
          "text": [
            "MSE: 29.6718\n",
            "MAE: 3.7931\n",
            "RMSE: 5.4472\n",
            "R² Score: 0.9842\n",
            "MAPE: 2833655785592.68%\n",
            "Median Absolute Error: 2.2541\n"
          ]
        }
      ],
      "source": [
        "print(f\"MSE: {mse:.4f}\")\n",
        "print(f\"MAE: {mae:.4f}\")\n",
        "print(f\"RMSE: {rmse:.4f}\")\n",
        "print(f\"R² Score: {r2:.4f}\")\n",
        "print(f\"MAPE: {mape:.2f}%\")\n",
        "print(f\"Median Absolute Error: {medae:.4f}\")"
      ]
    },
    {
      "cell_type": "code",
      "execution_count": null,
      "metadata": {},
      "outputs": [],
      "source": [
        "plt.figure(figsize=(10, 6))\n",
        "plt.plot(history.history['loss'], label='Training Loss')\n",
        "plt.plot(history.history['val_loss'], label='Validation Loss')\n",
        "plt.title('Lightweight LSTM Model Loss During Training')\n",
        "plt.xlabel('Epoch')\n",
        "plt.ylabel('Loss')\n",
        "plt.legend()\n",
        "plt.grid(True)\n",
        "plt.savefig('lightweight_lstm_training_loss_plot.png')\n",
        "plt.close()"
      ]
    },
    {
      "cell_type": "code",
      "execution_count": 21,
      "metadata": {},
      "outputs": [],
      "source": [
        "errors = y_val_inv - y_pred_inv\n",
        "plt.figure(figsize=(10, 6))\n",
        "sns.histplot(errors, bins=50, kde=True, color='blue')\n",
        "plt.title('Distribution of RUL Prediction Errors (Lightweight LSTM)')\n",
        "plt.xlabel('Prediction Error (Actual RUL - Predicted RUL)')\n",
        "plt.ylabel('Frequency')\n",
        "plt.grid(True)\n",
        "plt.savefig('lightweight_prediction_error_distribution.png')\n",
        "plt.close()"
      ]
    },
    {
      "cell_type": "code",
      "execution_count": 22,
      "metadata": {},
      "outputs": [
        {
          "name": "stdout",
          "output_type": "stream",
          "text": [
            "\u001b[1m10/10\u001b[0m \u001b[32m━━━━━━━━━━━━━━━━━━━━\u001b[0m\u001b[37m\u001b[0m \u001b[1m0s\u001b[0m 9ms/step\n"
          ]
        }
      ],
      "source": [
        "unit_ids = df['unit_number'].unique()\n",
        "sample_unit = unit_ids[0]\n",
        "unit_data = df[df['unit_number'] == sample_unit]\n",
        "unit_X, unit_y = create_sequences(unit_data, WINDOW_SIZE, selected_features, target_col)\n",
        "unit_pred = model.predict(unit_X)\n",
        "unit_y_inv = scaler_target.inverse_transform(unit_y.reshape(-1, 1)).flatten()\n",
        "unit_pred_inv = scaler_target.inverse_transform(unit_pred).flatten()\n"
      ]
    },
    {
      "cell_type": "code",
      "execution_count": 23,
      "metadata": {},
      "outputs": [],
      "source": [
        "plt.figure(figsize=(12, 6))\n",
        "plt.plot(unit_y_inv, label='Actual RUL', marker='o')\n",
        "plt.plot(unit_pred_inv, label='Predicted RUL', marker='x')\n",
        "plt.title(f'RUL Prediction for Unit {sample_unit} (Lightweight LSTM)')\n",
        "plt.xlabel('Cycle')\n",
        "plt.ylabel('RUL')\n",
        "plt.legend()\n",
        "plt.grid(True)\n",
        "plt.savefig('lightweight_lstm_temporal_prediction_plot.png')\n",
        "plt.close()"
      ]
    },
    {
      "cell_type": "code",
      "execution_count": 24,
      "metadata": {},
      "outputs": [],
      "source": [
        "cumulative_error = np.cumsum(np.abs(errors))\n",
        "plt.figure(figsize=(10, 6))\n",
        "plt.plot(cumulative_error, color='red')\n",
        "plt.title('Cumulative Absolute Prediction Error (Lightweight LSTM)')\n",
        "plt.xlabel('Sample Index')\n",
        "plt.ylabel('Cumulative Absolute Error')\n",
        "plt.grid(True)\n",
        "plt.savefig('lightweight_cumulative_error_plot.png')\n",
        "plt.close()"
      ]
    },
    {
      "cell_type": "code",
      "execution_count": 25,
      "metadata": {},
      "outputs": [],
      "source": [
        "model.save(\"lightweight_lstm_rul_model.keras\")"
      ]
    }
  ],
  "metadata": {
    "accelerator": "GPU",
    "colab": {
      "gpuType": "T4",
      "provenance": []
    },
    "kernelspec": {
      "display_name": "Python 3",
      "name": "python3"
    },
    "language_info": {
      "codemirror_mode": {
        "name": "ipython",
        "version": 3
      },
      "file_extension": ".py",
      "mimetype": "text/x-python",
      "name": "python",
      "nbconvert_exporter": "python",
      "pygments_lexer": "ipython3",
      "version": "3.11.2"
    }
  },
  "nbformat": 4,
  "nbformat_minor": 0
}
